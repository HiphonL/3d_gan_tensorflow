{
 "cells": [
  {
   "cell_type": "markdown",
   "metadata": {},
   "source": [
    "## Preprocess 3D files to appropriate format for training"
   ]
  },
  {
   "cell_type": "code",
   "execution_count": 2,
   "metadata": {
    "collapsed": true
   },
   "outputs": [],
   "source": [
    "import numpy as np\n",
    "import os"
   ]
  },
  {
   "cell_type": "markdown",
   "metadata": {},
   "source": [
    "### Do it once: read matlab voxel file (size = 30 by 30 by 30), turn into 3d array (size = 32 by 32 by 32), and save to local as binary ndarray\n",
    "<p>The Matlab voxel files can be downloaded from <a href='http://3dshapenets.cs.princeton.edu/3DShapeNetsCode.zip'>here</a>.</p>"
   ]
  },
  {
   "cell_type": "code",
   "execution_count": 233,
   "metadata": {
    "collapsed": false
   },
   "outputs": [],
   "source": [
    "import scipy.io\n",
    "\n",
    "new_train_dir = '/Users/yuxuanzhang/3D_Voxel_Files/'\n",
    "train_dir = '/Users/yuxuanzhang/Downloads/3DShapeNets/volumetric_data/chair/30/train/'\n",
    "\n",
    "if not os.path.exists(new_train_dir):\n",
    "    os.makedirs(new_train_dir)\n",
    "\n",
    "train_file_names = [f for f in os.listdir(train_dir) if f.endswith('_1.mat')]\n",
    "for f in train_file_names:\n",
    "    voxel_matrix = scipy.io.loadmat(train_dir+f)['instance']\n",
    "    # add padding to original matrix to make it 32*32*32\n",
    "    voxel_matrix=np.pad(voxel_matrix,(1,1),'constant',constant_values=(0,0)) \n",
    "    voxel_matrix.dump(new_train_dir+f[:-4])\n",
    "\n",
    "test_dir = '/Users/yuxuanzhang/Downloads/3DShapeNets/volumetric_data/chair/30/test/'\n",
    "test_file_names = [f for f in os.listdir(test_dir) if f.endswith('_1.mat')] \n",
    "for f in test_file_names:\n",
    "    voxel_matrix = scipy.io.loadmat(test_dir+f)['instance']\n",
    "    # add padding to original matrix to make it 32*32*32\n",
    "    voxel_matrix=np.pad(voxel_matrix,(1,1),'constant',constant_values=(0,0)) \n",
    "    voxel_matrix.dump(new_train_dir+f[:-4])"
   ]
  },
  {
   "cell_type": "markdown",
   "metadata": {},
   "source": [
    "### Turn a voxel 3d array into mesh"
   ]
  },
  {
   "cell_type": "code",
   "execution_count": 3,
   "metadata": {
    "collapsed": false
   },
   "outputs": [],
   "source": [
    "voxel_matrix = np.load('/Users/yuxuanzhang/3D_Voxel_Files/chair_000000000_1')"
   ]
  },
  {
   "cell_type": "code",
   "execution_count": 4,
   "metadata": {
    "collapsed": false
   },
   "outputs": [],
   "source": [
    "from skimage import measure\n",
    "from stl import mesh\n",
    "# Use marching cubes to obtain the surface mesh of these ellipsoids\n",
    "vertices, faces = measure.marching_cubes(voxel_matrix,0.0)\n",
    "\n",
    "# Create the mesh and save as STL\n",
    "chair = mesh.Mesh(np.zeros(faces.shape[0], dtype=mesh.Mesh.dtype))\n",
    "for i, f in enumerate(faces):\n",
    "    for j in range(3):\n",
    "        chair.vectors[i][j] = vertices[f[j],:]"
   ]
  },
  {
   "cell_type": "code",
   "execution_count": 285,
   "metadata": {
    "collapsed": true
   },
   "outputs": [],
   "source": [
    "# Write the mesh to STL file \n",
    "chair.save('matlab_chair.stl')"
   ]
  },
  {
   "cell_type": "code",
   "execution_count": 5,
   "metadata": {
    "collapsed": false
   },
   "outputs": [
    {
     "name": "stderr",
     "output_type": "stream",
     "text": [
      "/System/Library/Frameworks/Python.framework/Versions/2.7/Extras/lib/python/matplotlib/collections.py:446: FutureWarning: elementwise comparison failed; returning scalar instead, but in the future will perform elementwise comparison\n",
      "  if self._edgecolors == 'face':\n",
      "/Library/Python/2.7/site-packages/ipykernel/__main__.py:12: DeprecationWarning: Non-string object detected for the array ordering. Please pass in 'C', 'F', 'A', or 'K' instead\n",
      "/System/Library/Frameworks/Python.framework/Versions/2.7/Extras/lib/python/mpl_toolkits/mplot3d/axes3d.py:890: FutureWarning: comparison to `None` will result in an elementwise object comparison in the future.\n",
      "  if self.button_pressed in self._rotate_btn:\n"
     ]
    }
   ],
   "source": [
    "# Plot out the meshed object\n",
    "from mpl_toolkits import mplot3d\n",
    "from matplotlib import pyplot\n",
    "\n",
    "figure = pyplot.figure()\n",
    "axes = mplot3d.Axes3D(figure)\n",
    "\n",
    "# Load the STL files and add the vectors to the plot\n",
    "axes.add_collection3d(mplot3d.art3d.Poly3DCollection(chair.vectors))\n",
    "\n",
    "# Auto scale to the mesh size\n",
    "scale = chair.points.flatten(-1)\n",
    "axes.auto_scale_xyz(scale, scale, scale)\n",
    "\n",
    "# Show the plot to the screen\n",
    "pyplot.show()"
   ]
  },
  {
   "cell_type": "markdown",
   "metadata": {},
   "source": [
    "### Read .OFF file and turn into STL format"
   ]
  },
  {
   "cell_type": "code",
   "execution_count": 1,
   "metadata": {
    "collapsed": true
   },
   "outputs": [],
   "source": [
    "from stl import mesh"
   ]
  },
  {
   "cell_type": "code",
   "execution_count": 72,
   "metadata": {
    "collapsed": false
   },
   "outputs": [],
   "source": [
    "vertices = [] # placeholder for x,y,z coordinates of the vertices\n",
    "faces = [] # placeholder for the indices of three vertices that form a trangular face\n",
    "\n",
    "f = open(\"chair_0461.off\",\"r\")\n",
    "line = f.readline()\n",
    "n = 0\n",
    "while line:\n",
    "    if n>1:\n",
    "        line = line.rstrip() # get rid of '\\n' at the end\n",
    "        parsed_list = line.split(\" \")\n",
    "        if len(parsed_list) == 3: \n",
    "            vertices.append([float(coordinate) for coordinate in parsed_list])\n",
    "        else:\n",
    "            faces.append([int(index) for index in parsed_list[1:]])\n",
    "    line = f.readline()\n",
    "    n += 1\n",
    "f.close()\n",
    "\n",
    "vertices = np.array(vertices)\n",
    "faces = np.array(faces)\n",
    "#print vertices\n",
    "#print faces"
   ]
  },
  {
   "cell_type": "code",
   "execution_count": 74,
   "metadata": {
    "collapsed": false
   },
   "outputs": [],
   "source": [
    "# Create the mesh and save as STL\n",
    "chair = mesh.Mesh(np.zeros(faces.shape[0], dtype=mesh.Mesh.dtype))\n",
    "for i, f in enumerate(faces):\n",
    "    for j in range(3):\n",
    "        chair.vectors[i][j] = vertices[f[j],:]\n",
    "\n",
    "# Write the mesh to file \"chair.stl\"\n",
    "chair.save('dd.stl')"
   ]
  },
  {
   "cell_type": "code",
   "execution_count": 98,
   "metadata": {
    "collapsed": false
   },
   "outputs": [
    {
     "name": "stderr",
     "output_type": "stream",
     "text": [
      "/Library/Python/2.7/site-packages/ipykernel/__main__.py:12: DeprecationWarning: Non-string object detected for the array ordering. Please pass in 'C', 'F', 'A', or 'K' instead\n"
     ]
    }
   ],
   "source": [
    "# visualize a mesh\n",
    "from mpl_toolkits import mplot3d\n",
    "from matplotlib import pyplot\n",
    "\n",
    "# Create a new plot\n",
    "figure = pyplot.figure()\n",
    "axes = mplot3d.Axes3D(figure)\n",
    "\n",
    "# Load the STL files and add the vectors to the plot\n",
    "axes.add_collection3d(mplot3d.art3d.Poly3DCollection(chair.vectors))\n",
    "\n",
    "# Auto scale to the mesh size\n",
    "scale = chair.points.flatten(-1)\n",
    "axes.auto_scale_xyz(scale, scale, scale)\n",
    "\n",
    "# Show the plot to the screen\n",
    "pyplot.show()"
   ]
  },
  {
   "cell_type": "code",
   "execution_count": null,
   "metadata": {
    "collapsed": true
   },
   "outputs": [],
   "source": []
  }
 ],
 "metadata": {
  "kernelspec": {
   "display_name": "Python 2",
   "language": "python",
   "name": "python2"
  },
  "language_info": {
   "codemirror_mode": {
    "name": "ipython",
    "version": 2
   },
   "file_extension": ".py",
   "mimetype": "text/x-python",
   "name": "python",
   "nbconvert_exporter": "python",
   "pygments_lexer": "ipython2",
   "version": "2.7.5"
  }
 },
 "nbformat": 4,
 "nbformat_minor": 0
}
